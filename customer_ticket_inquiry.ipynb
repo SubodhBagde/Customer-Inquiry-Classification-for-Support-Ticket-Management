{
  "nbformat": 4,
  "nbformat_minor": 0,
  "metadata": {
    "colab": {
      "provenance": []
    },
    "kernelspec": {
      "name": "python3",
      "display_name": "Python 3"
    },
    "language_info": {
      "name": "python"
    }
  },
  "cells": [
    {
      "cell_type": "code",
      "source": [
        "import pandas as pd\n",
        "\n",
        "# Load the dataset\n",
        "file_path = '/content/complaints_category_dataset.csv'\n",
        "data = pd.read_csv(file_path)\n",
        "\n",
        "# Display the first few rows of the dataset to understand its structure\n",
        "data.head(), data.info()"
      ],
      "metadata": {
        "id": "lylu4hh19RTi",
        "outputId": "72aaf9d7-4ba5-41f7-e049-124779069c2d",
        "colab": {
          "base_uri": "https://localhost:8080/"
        }
      },
      "execution_count": 1,
      "outputs": [
        {
          "output_type": "stream",
          "name": "stdout",
          "text": [
            "<class 'pandas.core.frame.DataFrame'>\n",
            "RangeIndex: 492 entries, 0 to 491\n",
            "Data columns (total 2 columns):\n",
            " #   Column      Non-Null Count  Dtype \n",
            "---  ------      --------------  ----- \n",
            " 0   Complaints  483 non-null    object\n",
            " 1   Categories  483 non-null    object\n",
            "dtypes: object(2)\n",
            "memory usage: 7.8+ KB\n"
          ]
        },
        {
          "output_type": "execute_result",
          "data": {
            "text/plain": [
              "(                                          Complaints      Categories\n",
              " 0                                                NaN             NaN\n",
              " 1  I need help fixing the software issue on my de...  Account Issues\n",
              " 2          The app keeps crashing, I need assistance  Account Issues\n",
              " 3  Can you help me resolve the connectivity issue...  Account Issues\n",
              " 4   I'm unable to log into my account, please assist  Account Issues,\n",
              " None)"
            ]
          },
          "metadata": {},
          "execution_count": 1
        }
      ]
    },
    {
      "cell_type": "code",
      "source": [
        "# Drop rows with missing values\n",
        "data_cleaned = data.dropna()\n",
        "\n",
        "# Check the cleaned data\n",
        "data_cleaned.info(), data_cleaned.head()"
      ],
      "metadata": {
        "id": "WYD1jARZ9UqS",
        "outputId": "f54973ba-4ec4-448e-ca65-e3a5f48a9801",
        "colab": {
          "base_uri": "https://localhost:8080/"
        }
      },
      "execution_count": 2,
      "outputs": [
        {
          "output_type": "stream",
          "name": "stdout",
          "text": [
            "<class 'pandas.core.frame.DataFrame'>\n",
            "Index: 483 entries, 1 to 491\n",
            "Data columns (total 2 columns):\n",
            " #   Column      Non-Null Count  Dtype \n",
            "---  ------      --------------  ----- \n",
            " 0   Complaints  483 non-null    object\n",
            " 1   Categories  483 non-null    object\n",
            "dtypes: object(2)\n",
            "memory usage: 11.3+ KB\n"
          ]
        },
        {
          "output_type": "execute_result",
          "data": {
            "text/plain": [
              "(None,\n",
              "                                           Complaints      Categories\n",
              " 1  I need help fixing the software issue on my de...  Account Issues\n",
              " 2          The app keeps crashing, I need assistance  Account Issues\n",
              " 3  Can you help me resolve the connectivity issue...  Account Issues\n",
              " 4   I'm unable to log into my account, please assist  Account Issues\n",
              " 5  The website is not loading properly, can you i...  Account Issues)"
            ]
          },
          "metadata": {},
          "execution_count": 2
        }
      ]
    },
    {
      "cell_type": "code",
      "source": [
        "from sklearn.model_selection import train_test_split\n",
        "from sklearn.feature_extraction.text import TfidfVectorizer\n",
        "from sklearn.linear_model import LogisticRegression\n",
        "from sklearn.metrics import classification_report, accuracy_score\n",
        "from sklearn.pipeline import Pipeline\n",
        "import re\n",
        "\n",
        "# Text preprocessing: Remove special characters and tokenize\n",
        "def preprocess_text(text):\n",
        "    text = text.lower()  # Convert to lowercase\n",
        "    text = re.sub(r'\\W+', ' ', text)  # Remove special characters\n",
        "    return text\n",
        "\n",
        "# Apply preprocessing to the 'Complaints' column\n",
        "data_cleaned['Complaints'] = data_cleaned['Complaints'].apply(preprocess_text)\n",
        "\n",
        "# Split the data into features (X) and target (y)\n",
        "X = data_cleaned['Complaints']\n",
        "y = data_cleaned['Categories']\n",
        "\n",
        "# Split the dataset into training and test sets\n",
        "X_train, X_test, y_train, y_test = train_test_split(X, y, test_size=0.2, random_state=42)\n",
        "\n",
        "# Build a pipeline with TF-IDF and Logistic Regression\n",
        "pipeline = Pipeline([\n",
        "    ('tfidf', TfidfVectorizer(max_features=5000)),  # TF-IDF Vectorizer\n",
        "    ('clf', LogisticRegression())  # Logistic Regression Classifier\n",
        "])\n",
        "\n",
        "# Train the model\n",
        "pipeline.fit(X_train, y_train)\n",
        "\n",
        "# Predict on the test set\n",
        "y_pred = pipeline.predict(X_test)\n",
        "\n",
        "# Evaluate the model\n",
        "accuracy = accuracy_score(y_test, y_pred)\n",
        "report = classification_report(y_test, y_pred)\n",
        "\n",
        "accuracy, report"
      ],
      "metadata": {
        "id": "Qfs2fxtD9bYv",
        "outputId": "9e916540-e176-40d8-bca0-b47e5a1b6c29",
        "colab": {
          "base_uri": "https://localhost:8080/"
        }
      },
      "execution_count": 3,
      "outputs": [
        {
          "output_type": "stream",
          "name": "stderr",
          "text": [
            "<ipython-input-3-0ab1a6c44da2>:15: SettingWithCopyWarning: \n",
            "A value is trying to be set on a copy of a slice from a DataFrame.\n",
            "Try using .loc[row_indexer,col_indexer] = value instead\n",
            "\n",
            "See the caveats in the documentation: https://pandas.pydata.org/pandas-docs/stable/user_guide/indexing.html#returning-a-view-versus-a-copy\n",
            "  data_cleaned['Complaints'] = data_cleaned['Complaints'].apply(preprocess_text)\n"
          ]
        },
        {
          "output_type": "execute_result",
          "data": {
            "text/plain": [
              "(0.7835051546391752,\n",
              " '                 precision    recall  f1-score   support\\n\\n Account Issues       0.71      1.00      0.83        12\\n        Billing       0.85      1.00      0.92        22\\nDelivery Issues       0.86      1.00      0.92         6\\n  Miscellaneous       1.00      0.17      0.29        12\\n   Order Issues       0.33      0.20      0.25         5\\n Product Issues       0.76      0.89      0.82        18\\n        Quality       0.67      0.40      0.50         5\\n         Refund       0.73      0.80      0.76        10\\n       Warranty       1.00      1.00      1.00         7\\n\\n       accuracy                           0.78        97\\n      macro avg       0.77      0.72      0.70        97\\n   weighted avg       0.80      0.78      0.74        97\\n')"
            ]
          },
          "metadata": {},
          "execution_count": 3
        }
      ]
    },
    {
      "cell_type": "code",
      "source": [
        "from sklearn.ensemble import RandomForestClassifier\n",
        "from sklearn.model_selection import GridSearchCV\n",
        "\n",
        "# Define a pipeline with TF-IDF and Random Forest Classifier\n",
        "pipeline_rf = Pipeline([\n",
        "    ('tfidf', TfidfVectorizer(max_features=5000)),\n",
        "    ('clf', RandomForestClassifier(random_state=42))\n",
        "])\n",
        "\n",
        "# Set up the parameter grid for hyperparameter tuning\n",
        "param_grid = {\n",
        "    'clf__n_estimators': [100, 200, 300],\n",
        "    'clf__max_depth': [None, 10, 20, 30],\n",
        "    'clf__min_samples_split': [2, 5, 10],\n",
        "    'clf__min_samples_leaf': [1, 2, 4]\n",
        "}\n",
        "\n",
        "# Set up the GridSearchCV for hyperparameter tuning\n",
        "grid_search = GridSearchCV(pipeline_rf, param_grid, cv=3, n_jobs=-1, verbose=2)\n",
        "\n",
        "# Train the model with grid search\n",
        "grid_search.fit(X_train, y_train)\n",
        "\n",
        "# Get the best model after tuning\n",
        "best_model = grid_search.best_estimator_\n",
        "\n",
        "# Predict on the test set using the best model\n",
        "y_pred_rf = best_model.predict(X_test)\n",
        "\n",
        "# Evaluate the model\n",
        "accuracy_rf = accuracy_score(y_test, y_pred_rf)\n",
        "report_rf = classification_report(y_test, y_pred_rf)\n",
        "\n",
        "accuracy_rf, report_rf, grid_search.best_params_\n"
      ],
      "metadata": {
        "id": "8NDV2qI-9iFS",
        "outputId": "77569587-9d42-47de-ed0f-0158f46cb636",
        "colab": {
          "base_uri": "https://localhost:8080/"
        }
      },
      "execution_count": 4,
      "outputs": [
        {
          "output_type": "stream",
          "name": "stdout",
          "text": [
            "Fitting 3 folds for each of 108 candidates, totalling 324 fits\n"
          ]
        },
        {
          "output_type": "execute_result",
          "data": {
            "text/plain": [
              "(0.8247422680412371,\n",
              " '                 precision    recall  f1-score   support\\n\\n Account Issues       0.80      1.00      0.89        12\\n        Billing       0.84      0.95      0.89        22\\nDelivery Issues       0.71      0.83      0.77         6\\n  Miscellaneous       1.00      0.42      0.59        12\\n   Order Issues       0.80      0.80      0.80         5\\n Product Issues       0.89      0.89      0.89        18\\n        Quality       0.67      0.40      0.50         5\\n         Refund       0.67      0.80      0.73        10\\n       Warranty       1.00      1.00      1.00         7\\n\\n       accuracy                           0.82        97\\n      macro avg       0.82      0.79      0.78        97\\n   weighted avg       0.84      0.82      0.81        97\\n',\n",
              " {'clf__max_depth': None,\n",
              "  'clf__min_samples_leaf': 1,\n",
              "  'clf__min_samples_split': 2,\n",
              "  'clf__n_estimators': 100})"
            ]
          },
          "metadata": {},
          "execution_count": 4
        }
      ]
    },
    {
      "cell_type": "code",
      "source": [
        "import pickle\n",
        "# Assuming 'model' is your trained model\n",
        "with open('best_model.pkl', 'wb') as file:\n",
        "    pickle.dump(best_model, file)"
      ],
      "metadata": {
        "id": "K-Xp9PPIBkM0"
      },
      "execution_count": 7,
      "outputs": []
    },
    {
      "cell_type": "code",
      "source": [
        "with open('best_model.pkl', 'rb') as file:\n",
        "    model = pickle.load(file)  # Ensure no errors here"
      ],
      "metadata": {
        "id": "zHgucRiIEQLG"
      },
      "execution_count": 8,
      "outputs": []
    },
    {
      "cell_type": "code",
      "source": [
        "def predict_category(inquiry, model=best_model):\n",
        "  \"\"\"Predicts the category of a user's inquiry using the trained model.\"\"\"\n",
        "  preprocessed_inquiry = preprocess_text(inquiry)\n",
        "  predicted_category = model.predict([preprocessed_inquiry])[0]\n",
        "  return predicted_category\n",
        "\n",
        "\n",
        "# Get user input\n",
        "user_inquiry = input(\"Please enter your inquiry: \")\n",
        "\n",
        "# Predict the category\n",
        "predicted_category = predict_category(user_inquiry)\n",
        "\n",
        "# Output the predicted category\n",
        "print(\"Predicted Category:\", predicted_category)"
      ],
      "metadata": {
        "id": "Ivv5ctW5-E4O",
        "outputId": "5084db21-12a5-4762-e20c-172012d6efc4",
        "colab": {
          "base_uri": "https://localhost:8080/"
        }
      },
      "execution_count": 5,
      "outputs": [
        {
          "output_type": "stream",
          "name": "stdout",
          "text": [
            "Please enter your inquiry: I want to cancel my subscription, how do I do that?\n",
            "Predicted Category: Miscellaneous\n"
          ]
        }
      ]
    }
  ]
}